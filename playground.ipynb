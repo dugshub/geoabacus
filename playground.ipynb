{
 "cells": [
  {
   "metadata": {
    "ExecuteTime": {
     "end_time": "2024-10-02T04:41:31.407037Z",
     "start_time": "2024-10-02T04:41:31.401361Z"
    }
   },
   "cell_type": "code",
   "source": [
    "from routes import map_point,map_points\n",
    "import pandas as pd"
   ],
   "id": "861593e05482255c",
   "outputs": [],
   "execution_count": 220
  },
  {
   "metadata": {},
   "cell_type": "markdown",
   "source": "",
   "id": "16a0427cbcee36fd"
  },
  {
   "metadata": {
    "ExecuteTime": {
     "end_time": "2024-10-02T04:41:32.969798Z",
     "start_time": "2024-10-02T04:41:32.927612Z"
    }
   },
   "cell_type": "code",
   "source": [
    "locations = list(pd.read_csv('locations.csv').head().itertuples())\n",
    "locations"
   ],
   "id": "2a83bd84b551b355",
   "outputs": [
    {
     "data": {
      "text/plain": [
       "[Pandas(Index=0, id=914, salesforce_id='a0w0H00000S69b8QAB', location_lon=-87.656236, location_lat=41.88137, street_address='1162 West Rundell Place', city='Chicago', state='IL'),\n",
       " Pandas(Index=1, id=1586, salesforce_id='a0w0H00000S6A0QQAV', location_lon=-87.648465, location_lat=41.912357, street_address='1650 N Halsted St', city='Chicago', state='IL'),\n",
       " Pandas(Index=2, id=1682, salesforce_id='a0w0H00000S69rXQAR', location_lon=-87.631088, location_lat=41.896047, street_address='739 North Clark Street', city='Chicago', state='IL'),\n",
       " Pandas(Index=3, id=2130, salesforce_id='a0w0H00000S69RZQAZ', location_lon=-87.643134, location_lat=41.831029, street_address='648 West 35th Street', city='Chicago', state='IL'),\n",
       " Pandas(Index=4, id=3154, salesforce_id='a0w0H00000S69soQAB', location_lon=-87.62177, location_lat=41.898311, street_address='201 E Chestnut St', city='Chicago', state='IL')]"
      ]
     },
     "execution_count": 221,
     "metadata": {},
     "output_type": "execute_result"
    }
   ],
   "execution_count": 221
  },
  {
   "metadata": {},
   "cell_type": "code",
   "outputs": [],
   "execution_count": null,
   "source": "",
   "id": "346c60e47856caff"
  },
  {
   "metadata": {},
   "cell_type": "code",
   "outputs": [],
   "execution_count": null,
   "source": "",
   "id": "718e8b5119c8a1b6"
  },
  {
   "metadata": {
    "ExecuteTime": {
     "end_time": "2024-10-02T04:41:51.947456Z",
     "start_time": "2024-10-02T04:41:51.910946Z"
    }
   },
   "cell_type": "code",
   "source": "placetypes = map_point(location.location_lon,location.location_lat) ",
   "id": "46a72db422996601",
   "outputs": [],
   "execution_count": 228
  },
  {
   "metadata": {
    "ExecuteTime": {
     "end_time": "2024-10-02T04:41:47.852922Z",
     "start_time": "2024-10-02T04:41:47.849616Z"
    }
   },
   "cell_type": "code",
   "source": "    placetypes",
   "id": "a34ad3c134eaea3",
   "outputs": [
    {
     "data": {
      "text/plain": [
       "[85633793, 85688697, 85865743, 85940195]"
      ]
     },
     "execution_count": 226,
     "metadata": {},
     "output_type": "execute_result"
    }
   ],
   "execution_count": 226
  },
  {
   "metadata": {},
   "cell_type": "code",
   "outputs": [],
   "execution_count": null,
   "source": "",
   "id": "75d17eb5cedbb027"
  }
 ],
 "metadata": {
  "kernelspec": {
   "display_name": "Python 3",
   "language": "python",
   "name": "python3"
  },
  "language_info": {
   "codemirror_mode": {
    "name": "ipython",
    "version": 2
   },
   "file_extension": ".py",
   "mimetype": "text/x-python",
   "name": "python",
   "nbconvert_exporter": "python",
   "pygments_lexer": "ipython2",
   "version": "2.7.6"
  }
 },
 "nbformat": 4,
 "nbformat_minor": 5
}
